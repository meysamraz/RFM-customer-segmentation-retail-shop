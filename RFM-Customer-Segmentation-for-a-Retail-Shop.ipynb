{
 "cells": [
  {
   "cell_type": "markdown",
   "id": "0152de92-9be3-4318-af0b-f632a5cfd8c0",
   "metadata": {},
   "source": [
    "# RFM Customer Segmentation for a Retail Shop\n",
    "An e-commerce company wants to segment its customers and determine marketing strategies according to these segments. To this end, we will define customers' behavior and create groups according to clusters in these behaviors. In other words, we will include those who exhibit common behaviors in the same groups and we will try to develop special sales and marketing techniques for these groups.\n",
    "\n",
    "I'm going to use RFM which stands for Recency, Frequency, and Monetary Value. It is a marketing framework that is used to analyze customer behavior and segment customers into groups based on their past purchasing habits.\n",
    "\n",
    "The RFM analysis is based on the following three metrics:\n",
    "\n",
    "Recency - How recently a customer has made a purchase.\n",
    "Frequency - How often a customer makes purchases.\n",
    "Monetary Value - How much a customer spends on each purchase.\n",
    "\n",
    "The RFM formula involves assigning a score to each metric, which is then used to segment customers into different groups. The scores are typically ranked on a scale of 1 to 5, with 5 being the highest score.\n",
    "\n",
    "The RFM formula can be written as follows:\n",
    "\n",
    "RFM Score = (R Score * 100) + (F Score * 10) + M Score\n",
    "\n",
    "Where:\n",
    "R Score = a score based on how recently the customer made a purchase (e.g., 5 for most recent, 1 for least recent)\n",
    "F Score = a score based on how frequently the customer makes purchases (e.g., 5 for most frequent, 1 for least frequent)\n",
    "M Score = a score based on how much the customer spends on each purchase (e.g., 5 for highest spend, 1 for lowest spend)\n",
    "\n",
    "By segmenting customers into different groups based on their RFM scores, businesses can tailor their marketing strategies and offers to better meet the needs and preferences of each group, ultimately leading to increased customer loyalty and revenue.\n",
    "\n",
    "\n",
    "- ## Dataset \n",
    "    - InvoiceNo: Invoice number. Nominal. A 6-digit integral number is uniquely assigned to each transaction. If this code starts with the letter 'c', it indicates a ---cancellation.\n",
    "    - StockCode: Product (item) code. Nominal. A 5-digit integral number is uniquely assigned to each specific product.\n",
    "    - Description: Product (item) name. Nominal.\n",
    "    - Quantity: The quantities of each product (item) per transaction. Numeric.\n",
    "    - InvoiceDate: Invoice date and time. Numeric. The day and time when a transaction was generated.\n",
    "    - UnitPrice: Unit price. Numeric. Product price per unit in sterling ( £).\n",
    "    - CustomerID: Customer number. Nominal. A 5-digit integral number is uniquely assigned to each customer.\n",
    "    - Country: Country name. Nominal. The name of the country where a customer resides.\n",
    " \n",
    "## Project Overview\n",
    "\n",
    "### 1 -  Exploring Dataset\n",
    "   - Check data shape\n",
    "   - Check data type\n",
    "   - See if there is any null values\n",
    "   - See if customers have frequency in their purchases\n",
    "   - Check the first and last recorded purchases\n",
    "\n",
    "### 2 - Data Preprocessing\n",
    "- Drop null values \n",
    "- Only keep recoreds with real purchasing\n",
    "- Create a new column call ***TotalAmount*** shows total amount of money customer spent on order\n",
    "- Reformat InvoiceDate to datetime\n",
    "\n",
    "## 3 - Calculating RFM Score\n",
    "- Calculating Recency\n",
    "- Calculating Frequency\n",
    "- Calculating Monetary\n",
    "- Score R and F and M based on their quantile\n",
    "- Segment customers based on their RFM score max = 555 and min = 111\n",
    "\n",
    "## 4 - Analyzing Segments\n",
    "- How many customers belong to each Segment?\n",
    "- AVG customers total amount spent\n",
    "- What's Yearly total amount and quantity sold?\n",
    "- What country are the customers from?\n",
    "- What country are the champion customers from?\n",
    "- Most Frequently bought product by customers of each segment\n",
    "\n",
    "### 5 - Reporting Analysis\n",
    "In this report, I summarize the analysis that has been made in this notebook + Explaining each segment and marketing strategy for them.\n",
    "- ####  https://docs.google.com/document/d/1usBhCDgDJz3gsrSh9Ve0VTt8pMpNhxd3zg-5kaotyBk/edit?usp=sharing"
   ]
  },
  {
   "cell_type": "code",
   "execution_count": 3,
   "id": "b7b85e71-fe4d-42c8-a29f-28c2a82df396",
   "metadata": {},
   "outputs": [],
   "source": [
    "# Data Preprocessing and Calculating RFM\n",
    "import pandas as pd\n",
    "\n",
    "# Data Visualization\n",
    "import matplotlib.pyplot as plt\n",
    "import plotly.graph_objects as go\n",
    "import plotly.offline as pyo\n",
    "import plotly.io as pio\n",
    "import seaborn as sns\n",
    "import warnings\n",
    "\n",
    "# Visualization Setups\n",
    "warnings.filterwarnings('ignore')\n",
    "pio.renderers.default = 'iframe'\n",
    "sns.set_style(\"darkgrid\")\n",
    "%matplotlib inline"
   ]
  },
  {
   "cell_type": "code",
   "execution_count": 4,
   "id": "ff74291e-7374-4d12-946f-e25aacee663d",
   "metadata": {},
   "outputs": [],
   "source": [
    "df = pd.read_csv('data/online_retail.csv')"
   ]
  },
  {
   "cell_type": "markdown",
   "id": "2bd888b9-819c-4fa4-9676-d001e69db20f",
   "metadata": {},
   "source": [
    "## Exploring Dataset\n",
    "- Check data shape\n",
    "- Check data type\n",
    "- See if there is any null values\n",
    "- See if customers have frequency in their purchases\n",
    "- Check the first and last recorded purchases"
   ]
  },
  {
   "cell_type": "code",
   "execution_count": 5,
   "id": "b3544f92-68da-4008-b030-8fbe8cf222df",
   "metadata": {},
   "outputs": [
    {
     "data": {
      "text/html": [
       "<div>\n",
       "<style scoped>\n",
       "    .dataframe tbody tr th:only-of-type {\n",
       "        vertical-align: middle;\n",
       "    }\n",
       "\n",
       "    .dataframe tbody tr th {\n",
       "        vertical-align: top;\n",
       "    }\n",
       "\n",
       "    .dataframe thead th {\n",
       "        text-align: right;\n",
       "    }\n",
       "</style>\n",
       "<table border=\"1\" class=\"dataframe\">\n",
       "  <thead>\n",
       "    <tr style=\"text-align: right;\">\n",
       "      <th></th>\n",
       "      <th>InvoiceNo</th>\n",
       "      <th>StockCode</th>\n",
       "      <th>Description</th>\n",
       "      <th>Quantity</th>\n",
       "      <th>InvoiceDate</th>\n",
       "      <th>UnitPrice</th>\n",
       "      <th>CustomerID</th>\n",
       "      <th>Country</th>\n",
       "    </tr>\n",
       "  </thead>\n",
       "  <tbody>\n",
       "    <tr>\n",
       "      <th>0</th>\n",
       "      <td>536365</td>\n",
       "      <td>85123A</td>\n",
       "      <td>WHITE HANGING HEART T-LIGHT HOLDER</td>\n",
       "      <td>6</td>\n",
       "      <td>12/01/2010 8:26</td>\n",
       "      <td>2.55</td>\n",
       "      <td>17850.0</td>\n",
       "      <td>United Kingdom</td>\n",
       "    </tr>\n",
       "    <tr>\n",
       "      <th>1</th>\n",
       "      <td>536365</td>\n",
       "      <td>71053</td>\n",
       "      <td>WHITE METAL LANTERN</td>\n",
       "      <td>6</td>\n",
       "      <td>12/01/2010 8:26</td>\n",
       "      <td>3.39</td>\n",
       "      <td>17850.0</td>\n",
       "      <td>United Kingdom</td>\n",
       "    </tr>\n",
       "    <tr>\n",
       "      <th>2</th>\n",
       "      <td>536365</td>\n",
       "      <td>84406B</td>\n",
       "      <td>CREAM CUPID HEARTS COAT HANGER</td>\n",
       "      <td>8</td>\n",
       "      <td>12/01/2010 8:26</td>\n",
       "      <td>2.75</td>\n",
       "      <td>17850.0</td>\n",
       "      <td>United Kingdom</td>\n",
       "    </tr>\n",
       "    <tr>\n",
       "      <th>3</th>\n",
       "      <td>536365</td>\n",
       "      <td>84029G</td>\n",
       "      <td>KNITTED UNION FLAG HOT WATER BOTTLE</td>\n",
       "      <td>6</td>\n",
       "      <td>12/01/2010 8:26</td>\n",
       "      <td>3.39</td>\n",
       "      <td>17850.0</td>\n",
       "      <td>United Kingdom</td>\n",
       "    </tr>\n",
       "    <tr>\n",
       "      <th>4</th>\n",
       "      <td>536365</td>\n",
       "      <td>84029E</td>\n",
       "      <td>RED WOOLLY HOTTIE WHITE HEART.</td>\n",
       "      <td>6</td>\n",
       "      <td>12/01/2010 8:26</td>\n",
       "      <td>3.39</td>\n",
       "      <td>17850.0</td>\n",
       "      <td>United Kingdom</td>\n",
       "    </tr>\n",
       "    <tr>\n",
       "      <th>5</th>\n",
       "      <td>536365</td>\n",
       "      <td>22752</td>\n",
       "      <td>SET 7 BABUSHKA NESTING BOXES</td>\n",
       "      <td>2</td>\n",
       "      <td>12/01/2010 8:26</td>\n",
       "      <td>7.65</td>\n",
       "      <td>17850.0</td>\n",
       "      <td>United Kingdom</td>\n",
       "    </tr>\n",
       "    <tr>\n",
       "      <th>6</th>\n",
       "      <td>536365</td>\n",
       "      <td>21730</td>\n",
       "      <td>GLASS STAR FROSTED T-LIGHT HOLDER</td>\n",
       "      <td>6</td>\n",
       "      <td>12/01/2010 8:26</td>\n",
       "      <td>4.25</td>\n",
       "      <td>17850.0</td>\n",
       "      <td>United Kingdom</td>\n",
       "    </tr>\n",
       "    <tr>\n",
       "      <th>7</th>\n",
       "      <td>536366</td>\n",
       "      <td>22633</td>\n",
       "      <td>HAND WARMER UNION JACK</td>\n",
       "      <td>6</td>\n",
       "      <td>12/01/2010 8:28</td>\n",
       "      <td>1.85</td>\n",
       "      <td>17850.0</td>\n",
       "      <td>United Kingdom</td>\n",
       "    </tr>\n",
       "    <tr>\n",
       "      <th>8</th>\n",
       "      <td>536366</td>\n",
       "      <td>22632</td>\n",
       "      <td>HAND WARMER RED POLKA DOT</td>\n",
       "      <td>6</td>\n",
       "      <td>12/01/2010 8:28</td>\n",
       "      <td>1.85</td>\n",
       "      <td>17850.0</td>\n",
       "      <td>United Kingdom</td>\n",
       "    </tr>\n",
       "    <tr>\n",
       "      <th>9</th>\n",
       "      <td>536367</td>\n",
       "      <td>84879</td>\n",
       "      <td>ASSORTED COLOUR BIRD ORNAMENT</td>\n",
       "      <td>32</td>\n",
       "      <td>12/01/2010 8:34</td>\n",
       "      <td>1.69</td>\n",
       "      <td>13047.0</td>\n",
       "      <td>United Kingdom</td>\n",
       "    </tr>\n",
       "  </tbody>\n",
       "</table>\n",
       "</div>"
      ],
      "text/plain": [
       "  InvoiceNo StockCode                          Description  Quantity  \\\n",
       "0    536365    85123A   WHITE HANGING HEART T-LIGHT HOLDER         6   \n",
       "1    536365     71053                  WHITE METAL LANTERN         6   \n",
       "2    536365    84406B       CREAM CUPID HEARTS COAT HANGER         8   \n",
       "3    536365    84029G  KNITTED UNION FLAG HOT WATER BOTTLE         6   \n",
       "4    536365    84029E       RED WOOLLY HOTTIE WHITE HEART.         6   \n",
       "5    536365     22752         SET 7 BABUSHKA NESTING BOXES         2   \n",
       "6    536365     21730    GLASS STAR FROSTED T-LIGHT HOLDER         6   \n",
       "7    536366     22633               HAND WARMER UNION JACK         6   \n",
       "8    536366     22632            HAND WARMER RED POLKA DOT         6   \n",
       "9    536367     84879        ASSORTED COLOUR BIRD ORNAMENT        32   \n",
       "\n",
       "       InvoiceDate  UnitPrice  CustomerID         Country  \n",
       "0  12/01/2010 8:26       2.55     17850.0  United Kingdom  \n",
       "1  12/01/2010 8:26       3.39     17850.0  United Kingdom  \n",
       "2  12/01/2010 8:26       2.75     17850.0  United Kingdom  \n",
       "3  12/01/2010 8:26       3.39     17850.0  United Kingdom  \n",
       "4  12/01/2010 8:26       3.39     17850.0  United Kingdom  \n",
       "5  12/01/2010 8:26       7.65     17850.0  United Kingdom  \n",
       "6  12/01/2010 8:26       4.25     17850.0  United Kingdom  \n",
       "7  12/01/2010 8:28       1.85     17850.0  United Kingdom  \n",
       "8  12/01/2010 8:28       1.85     17850.0  United Kingdom  \n",
       "9  12/01/2010 8:34       1.69     13047.0  United Kingdom  "
      ]
     },
     "execution_count": 5,
     "metadata": {},
     "output_type": "execute_result"
    }
   ],
   "source": [
    "df.head(10)"
   ]
  },
  {
   "cell_type": "markdown",
   "id": "32a08c2b-3bba-4e08-8c8c-c52bcacb5d69",
   "metadata": {},
   "source": [
    "### Check data shape"
   ]
  },
  {
   "cell_type": "code",
   "execution_count": 6,
   "id": "4145f7b4-1ebb-49d1-9e83-165cf7447347",
   "metadata": {},
   "outputs": [
    {
     "data": {
      "text/plain": [
       "(541909, 8)"
      ]
     },
     "execution_count": 6,
     "metadata": {},
     "output_type": "execute_result"
    }
   ],
   "source": [
    "df.shape"
   ]
  },
  {
   "cell_type": "markdown",
   "id": "a74d6332-8089-43cb-89ac-9b55759f8e4d",
   "metadata": {},
   "source": [
    "### Check data type"
   ]
  },
  {
   "cell_type": "code",
   "execution_count": 7,
   "id": "0ba87426-e335-4006-8590-7a696786ca38",
   "metadata": {},
   "outputs": [
    {
     "name": "stdout",
     "output_type": "stream",
     "text": [
      "<class 'pandas.core.frame.DataFrame'>\n",
      "RangeIndex: 541909 entries, 0 to 541908\n",
      "Data columns (total 8 columns):\n",
      " #   Column       Non-Null Count   Dtype  \n",
      "---  ------       --------------   -----  \n",
      " 0   InvoiceNo    541909 non-null  object \n",
      " 1   StockCode    541909 non-null  object \n",
      " 2   Description  540455 non-null  object \n",
      " 3   Quantity     541909 non-null  int64  \n",
      " 4   InvoiceDate  541909 non-null  object \n",
      " 5   UnitPrice    541909 non-null  float64\n",
      " 6   CustomerID   406829 non-null  float64\n",
      " 7   Country      541909 non-null  object \n",
      "dtypes: float64(2), int64(1), object(5)\n",
      "memory usage: 33.1+ MB\n"
     ]
    }
   ],
   "source": [
    "df.info()"
   ]
  },
  {
   "cell_type": "markdown",
   "id": "0e87939e-4855-4af9-a5d6-0442d76aa4a8",
   "metadata": {},
   "source": [
    "### See if there is any null values"
   ]
  },
  {
   "cell_type": "code",
   "execution_count": 8,
   "id": "33921b49-258f-4e95-ae27-c57935006305",
   "metadata": {},
   "outputs": [
    {
     "data": {
      "text/plain": [
       "InvoiceNo           0\n",
       "StockCode           0\n",
       "Description      1454\n",
       "Quantity            0\n",
       "InvoiceDate         0\n",
       "UnitPrice           0\n",
       "CustomerID     135080\n",
       "Country             0\n",
       "dtype: int64"
      ]
     },
     "execution_count": 8,
     "metadata": {},
     "output_type": "execute_result"
    }
   ],
   "source": [
    "df.isnull().sum()"
   ]
  },
  {
   "cell_type": "markdown",
   "id": "86ac2723-0bf0-41fe-9443-325417e26899",
   "metadata": {},
   "source": [
    "### See if customers have frequency in their purchases"
   ]
  },
  {
   "cell_type": "code",
   "execution_count": 9,
   "id": "12d868a1-b106-446d-b289-1596a50883db",
   "metadata": {},
   "outputs": [
    {
     "data": {
      "text/plain": [
       "17841.0    7983\n",
       "14911.0    5903\n",
       "14096.0    5128\n",
       "12748.0    4642\n",
       "14606.0    2782\n",
       "           ... \n",
       "14351.0       1\n",
       "13256.0       1\n",
       "12943.0       1\n",
       "17923.0       1\n",
       "13747.0       1\n",
       "Name: CustomerID, Length: 4372, dtype: int64"
      ]
     },
     "execution_count": 9,
     "metadata": {},
     "output_type": "execute_result"
    }
   ],
   "source": [
    "df['CustomerID'].value_counts()"
   ]
  },
  {
   "cell_type": "markdown",
   "id": "e7eeac75-0256-45cf-a6fb-449915155eef",
   "metadata": {},
   "source": [
    "### Check the first and last recorded purchases"
   ]
  },
  {
   "cell_type": "code",
   "execution_count": 10,
   "id": "3dc9eca2-1a11-462b-8ab8-7a453b156017",
   "metadata": {},
   "outputs": [
    {
     "data": {
      "text/plain": [
       "'01/04/2011 10:00'"
      ]
     },
     "execution_count": 10,
     "metadata": {},
     "output_type": "execute_result"
    }
   ],
   "source": [
    "df['InvoiceDate'].min()"
   ]
  },
  {
   "cell_type": "code",
   "execution_count": 11,
   "id": "92b1abd0-176b-4d31-b8b2-ffa0db071b17",
   "metadata": {},
   "outputs": [
    {
     "data": {
      "text/plain": [
       "'12/23/2010 9:59'"
      ]
     },
     "execution_count": 11,
     "metadata": {},
     "output_type": "execute_result"
    }
   ],
   "source": [
    "df['InvoiceDate'].max()"
   ]
  },
  {
   "cell_type": "markdown",
   "id": "5fd6b643-1d2e-4443-b990-c8e35904c159",
   "metadata": {},
   "source": [
    "## Data Preprocessing\n",
    "- Drop null values \n",
    "- Only keep recoreds with real purchasing\n",
    "- Create a new column call ***TotalAmount*** shows total amount of money customer spent on order\n",
    "- Reformat InvoiceDate to datetime"
   ]
  },
  {
   "cell_type": "markdown",
   "id": "16c418d0-09ff-4af0-90f8-5f43ec0e6c06",
   "metadata": {},
   "source": [
    "### Drop null values"
   ]
  },
  {
   "cell_type": "code",
   "execution_count": 12,
   "id": "4dcbf78e-c8d7-4291-8aba-8a823aa6a7b4",
   "metadata": {},
   "outputs": [],
   "source": [
    "df = df.dropna()"
   ]
  },
  {
   "cell_type": "markdown",
   "id": "cea3e264-65d6-4db8-8bfe-7537bd717576",
   "metadata": {},
   "source": [
    "### Only keep recoreds with real purchasing"
   ]
  },
  {
   "cell_type": "code",
   "execution_count": 13,
   "id": "eecf1eb8-8c17-47ae-91bd-7b81a2e1bc5c",
   "metadata": {},
   "outputs": [],
   "source": [
    "df = df[( df['Quantity'] > 0)&(df['UnitPrice'] > 0)]"
   ]
  },
  {
   "cell_type": "markdown",
   "id": "5d0a8dc8-c244-49b2-ae3d-4516e92aac03",
   "metadata": {},
   "source": [
    "### Create a new column call TotalAmount shows total amount of money customer spent on order"
   ]
  },
  {
   "cell_type": "code",
   "execution_count": 14,
   "id": "b13ef39d-1796-461f-9923-b7dcb73cdf2a",
   "metadata": {},
   "outputs": [],
   "source": [
    "df['TotalAmount'] = df['Quantity']*df['UnitPrice']"
   ]
  },
  {
   "cell_type": "markdown",
   "id": "e9c3db56-e81b-474f-96f0-3dcd8e52c25c",
   "metadata": {},
   "source": [
    "### Reformat InvoiceDate to datetime"
   ]
  },
  {
   "cell_type": "code",
   "execution_count": 15,
   "id": "d5bcf89a-d6a8-4c69-826c-6446a11def01",
   "metadata": {},
   "outputs": [],
   "source": [
    "df['InvoiceDate'] = pd.to_datetime(df['InvoiceDate'],format='%m/%d/%Y %H:%M')"
   ]
  },
  {
   "cell_type": "markdown",
   "id": "af02ea1f-6449-4451-9fd2-0bc4fa5b9528",
   "metadata": {},
   "source": [
    "## Calculating RFM Score\n",
    "- Calculating Recency\n",
    "- Calculating Frequency\n",
    "- Calculating Monetary\n",
    "- Score R and F and M based on their quantile\n",
    "- Segment customers based on their RFM score max = 555 and min = 111"
   ]
  },
  {
   "cell_type": "markdown",
   "id": "fb7fc36a-a0f9-4c81-8adf-94dca469aa8c",
   "metadata": {},
   "source": [
    "### Calculating Recency"
   ]
  },
  {
   "cell_type": "code",
   "execution_count": 16,
   "id": "6ee6f5a1-9fb9-4709-a449-86df696018ff",
   "metadata": {},
   "outputs": [
    {
     "data": {
      "text/html": [
       "<div>\n",
       "<style scoped>\n",
       "    .dataframe tbody tr th:only-of-type {\n",
       "        vertical-align: middle;\n",
       "    }\n",
       "\n",
       "    .dataframe tbody tr th {\n",
       "        vertical-align: top;\n",
       "    }\n",
       "\n",
       "    .dataframe thead th {\n",
       "        text-align: right;\n",
       "    }\n",
       "</style>\n",
       "<table border=\"1\" class=\"dataframe\">\n",
       "  <thead>\n",
       "    <tr style=\"text-align: right;\">\n",
       "      <th></th>\n",
       "      <th>InvoiceNo</th>\n",
       "      <th>StockCode</th>\n",
       "      <th>Description</th>\n",
       "      <th>Quantity</th>\n",
       "      <th>InvoiceDate</th>\n",
       "      <th>UnitPrice</th>\n",
       "      <th>CustomerID</th>\n",
       "      <th>Country</th>\n",
       "      <th>TotalAmount</th>\n",
       "      <th>timeDiff</th>\n",
       "    </tr>\n",
       "  </thead>\n",
       "  <tbody>\n",
       "    <tr>\n",
       "      <th>0</th>\n",
       "      <td>536365</td>\n",
       "      <td>85123A</td>\n",
       "      <td>WHITE HANGING HEART T-LIGHT HOLDER</td>\n",
       "      <td>6</td>\n",
       "      <td>2010-12-01 08:26:00</td>\n",
       "      <td>2.55</td>\n",
       "      <td>17850.0</td>\n",
       "      <td>United Kingdom</td>\n",
       "      <td>15.30</td>\n",
       "      <td>373 days 04:24:00</td>\n",
       "    </tr>\n",
       "    <tr>\n",
       "      <th>1</th>\n",
       "      <td>536365</td>\n",
       "      <td>71053</td>\n",
       "      <td>WHITE METAL LANTERN</td>\n",
       "      <td>6</td>\n",
       "      <td>2010-12-01 08:26:00</td>\n",
       "      <td>3.39</td>\n",
       "      <td>17850.0</td>\n",
       "      <td>United Kingdom</td>\n",
       "      <td>20.34</td>\n",
       "      <td>373 days 04:24:00</td>\n",
       "    </tr>\n",
       "    <tr>\n",
       "      <th>2</th>\n",
       "      <td>536365</td>\n",
       "      <td>84406B</td>\n",
       "      <td>CREAM CUPID HEARTS COAT HANGER</td>\n",
       "      <td>8</td>\n",
       "      <td>2010-12-01 08:26:00</td>\n",
       "      <td>2.75</td>\n",
       "      <td>17850.0</td>\n",
       "      <td>United Kingdom</td>\n",
       "      <td>22.00</td>\n",
       "      <td>373 days 04:24:00</td>\n",
       "    </tr>\n",
       "    <tr>\n",
       "      <th>3</th>\n",
       "      <td>536365</td>\n",
       "      <td>84029G</td>\n",
       "      <td>KNITTED UNION FLAG HOT WATER BOTTLE</td>\n",
       "      <td>6</td>\n",
       "      <td>2010-12-01 08:26:00</td>\n",
       "      <td>3.39</td>\n",
       "      <td>17850.0</td>\n",
       "      <td>United Kingdom</td>\n",
       "      <td>20.34</td>\n",
       "      <td>373 days 04:24:00</td>\n",
       "    </tr>\n",
       "    <tr>\n",
       "      <th>4</th>\n",
       "      <td>536365</td>\n",
       "      <td>84029E</td>\n",
       "      <td>RED WOOLLY HOTTIE WHITE HEART.</td>\n",
       "      <td>6</td>\n",
       "      <td>2010-12-01 08:26:00</td>\n",
       "      <td>3.39</td>\n",
       "      <td>17850.0</td>\n",
       "      <td>United Kingdom</td>\n",
       "      <td>20.34</td>\n",
       "      <td>373 days 04:24:00</td>\n",
       "    </tr>\n",
       "  </tbody>\n",
       "</table>\n",
       "</div>"
      ],
      "text/plain": [
       "  InvoiceNo StockCode                          Description  Quantity  \\\n",
       "0    536365    85123A   WHITE HANGING HEART T-LIGHT HOLDER         6   \n",
       "1    536365     71053                  WHITE METAL LANTERN         6   \n",
       "2    536365    84406B       CREAM CUPID HEARTS COAT HANGER         8   \n",
       "3    536365    84029G  KNITTED UNION FLAG HOT WATER BOTTLE         6   \n",
       "4    536365    84029E       RED WOOLLY HOTTIE WHITE HEART.         6   \n",
       "\n",
       "          InvoiceDate  UnitPrice  CustomerID         Country  TotalAmount  \\\n",
       "0 2010-12-01 08:26:00       2.55     17850.0  United Kingdom        15.30   \n",
       "1 2010-12-01 08:26:00       3.39     17850.0  United Kingdom        20.34   \n",
       "2 2010-12-01 08:26:00       2.75     17850.0  United Kingdom        22.00   \n",
       "3 2010-12-01 08:26:00       3.39     17850.0  United Kingdom        20.34   \n",
       "4 2010-12-01 08:26:00       3.39     17850.0  United Kingdom        20.34   \n",
       "\n",
       "           timeDiff  \n",
       "0 373 days 04:24:00  \n",
       "1 373 days 04:24:00  \n",
       "2 373 days 04:24:00  \n",
       "3 373 days 04:24:00  \n",
       "4 373 days 04:24:00  "
      ]
     },
     "execution_count": 16,
     "metadata": {},
     "output_type": "execute_result"
    }
   ],
   "source": [
    "# Extract date of last purchase\n",
    "df['timeDiff'] = max(df['InvoiceDate']) - df['InvoiceDate']\n",
    "df.head()"
   ]
  },
  {
   "cell_type": "code",
   "execution_count": 17,
   "id": "91c62e68-b34e-49e2-a5f8-7b611d4ad982",
   "metadata": {},
   "outputs": [
    {
     "data": {
      "text/html": [
       "<div>\n",
       "<style scoped>\n",
       "    .dataframe tbody tr th:only-of-type {\n",
       "        vertical-align: middle;\n",
       "    }\n",
       "\n",
       "    .dataframe tbody tr th {\n",
       "        vertical-align: top;\n",
       "    }\n",
       "\n",
       "    .dataframe thead th {\n",
       "        text-align: right;\n",
       "    }\n",
       "</style>\n",
       "<table border=\"1\" class=\"dataframe\">\n",
       "  <thead>\n",
       "    <tr style=\"text-align: right;\">\n",
       "      <th></th>\n",
       "      <th>CustomerID</th>\n",
       "      <th>Recency</th>\n",
       "    </tr>\n",
       "  </thead>\n",
       "  <tbody>\n",
       "    <tr>\n",
       "      <th>0</th>\n",
       "      <td>12346.0</td>\n",
       "      <td>325</td>\n",
       "    </tr>\n",
       "    <tr>\n",
       "      <th>1</th>\n",
       "      <td>12347.0</td>\n",
       "      <td>1</td>\n",
       "    </tr>\n",
       "    <tr>\n",
       "      <th>2</th>\n",
       "      <td>12348.0</td>\n",
       "      <td>74</td>\n",
       "    </tr>\n",
       "    <tr>\n",
       "      <th>3</th>\n",
       "      <td>12349.0</td>\n",
       "      <td>18</td>\n",
       "    </tr>\n",
       "    <tr>\n",
       "      <th>4</th>\n",
       "      <td>12350.0</td>\n",
       "      <td>309</td>\n",
       "    </tr>\n",
       "  </tbody>\n",
       "</table>\n",
       "</div>"
      ],
      "text/plain": [
       "   CustomerID  Recency\n",
       "0     12346.0      325\n",
       "1     12347.0        1\n",
       "2     12348.0       74\n",
       "3     12349.0       18\n",
       "4     12350.0      309"
      ]
     },
     "execution_count": 17,
     "metadata": {},
     "output_type": "execute_result"
    }
   ],
   "source": [
    "recency_df = df.groupby('CustomerID')['timeDiff'].min()\n",
    "recency_df = recency_df.reset_index()\n",
    "recency_df['Recency'] = recency_df['timeDiff'].dt.days\n",
    "recency_df = recency_df.drop('timeDiff',axis=1)\n",
    "recency_df.head()"
   ]
  },
  {
   "cell_type": "markdown",
   "id": "f62df1f8-b7a5-4190-9c7d-c8d57ab614db",
   "metadata": {},
   "source": [
    "### Calculating Frequency"
   ]
  },
  {
   "cell_type": "code",
   "execution_count": 18,
   "id": "aa077b5c-be7b-44a8-b900-1201d9d86f39",
   "metadata": {},
   "outputs": [
    {
     "data": {
      "text/html": [
       "<div>\n",
       "<style scoped>\n",
       "    .dataframe tbody tr th:only-of-type {\n",
       "        vertical-align: middle;\n",
       "    }\n",
       "\n",
       "    .dataframe tbody tr th {\n",
       "        vertical-align: top;\n",
       "    }\n",
       "\n",
       "    .dataframe thead th {\n",
       "        text-align: right;\n",
       "    }\n",
       "</style>\n",
       "<table border=\"1\" class=\"dataframe\">\n",
       "  <thead>\n",
       "    <tr style=\"text-align: right;\">\n",
       "      <th></th>\n",
       "      <th>CustomerID</th>\n",
       "      <th>Frequency</th>\n",
       "    </tr>\n",
       "  </thead>\n",
       "  <tbody>\n",
       "    <tr>\n",
       "      <th>0</th>\n",
       "      <td>12346.0</td>\n",
       "      <td>1</td>\n",
       "    </tr>\n",
       "    <tr>\n",
       "      <th>1</th>\n",
       "      <td>12347.0</td>\n",
       "      <td>182</td>\n",
       "    </tr>\n",
       "    <tr>\n",
       "      <th>2</th>\n",
       "      <td>12348.0</td>\n",
       "      <td>31</td>\n",
       "    </tr>\n",
       "    <tr>\n",
       "      <th>3</th>\n",
       "      <td>12349.0</td>\n",
       "      <td>73</td>\n",
       "    </tr>\n",
       "    <tr>\n",
       "      <th>4</th>\n",
       "      <td>12350.0</td>\n",
       "      <td>17</td>\n",
       "    </tr>\n",
       "  </tbody>\n",
       "</table>\n",
       "</div>"
      ],
      "text/plain": [
       "   CustomerID  Frequency\n",
       "0     12346.0          1\n",
       "1     12347.0        182\n",
       "2     12348.0         31\n",
       "3     12349.0         73\n",
       "4     12350.0         17"
      ]
     },
     "execution_count": 18,
     "metadata": {},
     "output_type": "execute_result"
    }
   ],
   "source": [
    "# New Attribute : Frequency\n",
    "frequency_df = df.drop_duplicates().groupby(\n",
    "    by=['CustomerID'], as_index=False)['InvoiceNo'].count()\n",
    "frequency_df.columns = ['CustomerID', 'Frequency']\n",
    "frequency_df.head()"
   ]
  },
  {
   "cell_type": "markdown",
   "id": "cb2aa5c5-a48f-4df8-ae9c-9f054a3681f0",
   "metadata": {},
   "source": [
    "### Calculating Monetary"
   ]
  },
  {
   "cell_type": "code",
   "execution_count": 19,
   "id": "d3c35e1e-7f62-41fa-a2b7-4172b3209c3f",
   "metadata": {},
   "outputs": [
    {
     "data": {
      "text/html": [
       "<div>\n",
       "<style scoped>\n",
       "    .dataframe tbody tr th:only-of-type {\n",
       "        vertical-align: middle;\n",
       "    }\n",
       "\n",
       "    .dataframe tbody tr th {\n",
       "        vertical-align: top;\n",
       "    }\n",
       "\n",
       "    .dataframe thead th {\n",
       "        text-align: right;\n",
       "    }\n",
       "</style>\n",
       "<table border=\"1\" class=\"dataframe\">\n",
       "  <thead>\n",
       "    <tr style=\"text-align: right;\">\n",
       "      <th></th>\n",
       "      <th>CustomerID</th>\n",
       "      <th>Monetary</th>\n",
       "    </tr>\n",
       "  </thead>\n",
       "  <tbody>\n",
       "    <tr>\n",
       "      <th>0</th>\n",
       "      <td>12346.0</td>\n",
       "      <td>77183.60</td>\n",
       "    </tr>\n",
       "    <tr>\n",
       "      <th>1</th>\n",
       "      <td>12347.0</td>\n",
       "      <td>4310.00</td>\n",
       "    </tr>\n",
       "    <tr>\n",
       "      <th>2</th>\n",
       "      <td>12348.0</td>\n",
       "      <td>1797.24</td>\n",
       "    </tr>\n",
       "    <tr>\n",
       "      <th>3</th>\n",
       "      <td>12349.0</td>\n",
       "      <td>1757.55</td>\n",
       "    </tr>\n",
       "    <tr>\n",
       "      <th>4</th>\n",
       "      <td>12350.0</td>\n",
       "      <td>334.40</td>\n",
       "    </tr>\n",
       "  </tbody>\n",
       "</table>\n",
       "</div>"
      ],
      "text/plain": [
       "   CustomerID  Monetary\n",
       "0     12346.0  77183.60\n",
       "1     12347.0   4310.00\n",
       "2     12348.0   1797.24\n",
       "3     12349.0   1757.55\n",
       "4     12350.0    334.40"
      ]
     },
     "execution_count": 19,
     "metadata": {},
     "output_type": "execute_result"
    }
   ],
   "source": [
    "monetary_df = df.groupby(by='CustomerID', as_index=False)['TotalAmount'].sum()\n",
    "monetary_df.columns = ['CustomerID', 'Monetary']\n",
    "monetary_df.head()"
   ]
  },
  {
   "cell_type": "code",
   "execution_count": 20,
   "id": "6120e004-bb8b-413a-85d0-63fd04ece3a1",
   "metadata": {},
   "outputs": [],
   "source": [
    "# Merge all R,F,M dataframes together\n",
    "RFM = pd.merge(recency_df, frequency_df, on='CustomerID', how='outer')\n",
    "RFM = pd.merge(RFM, monetary_df, on='CustomerID', how='outer')"
   ]
  },
  {
   "cell_type": "code",
   "execution_count": 21,
   "id": "55666e28-c4e4-4ad2-a11d-0a2390c87402",
   "metadata": {},
   "outputs": [
    {
     "data": {
      "text/html": [
       "<div>\n",
       "<style scoped>\n",
       "    .dataframe tbody tr th:only-of-type {\n",
       "        vertical-align: middle;\n",
       "    }\n",
       "\n",
       "    .dataframe tbody tr th {\n",
       "        vertical-align: top;\n",
       "    }\n",
       "\n",
       "    .dataframe thead th {\n",
       "        text-align: right;\n",
       "    }\n",
       "</style>\n",
       "<table border=\"1\" class=\"dataframe\">\n",
       "  <thead>\n",
       "    <tr style=\"text-align: right;\">\n",
       "      <th></th>\n",
       "      <th>CustomerID</th>\n",
       "      <th>Recency</th>\n",
       "      <th>Frequency</th>\n",
       "      <th>Monetary</th>\n",
       "    </tr>\n",
       "  </thead>\n",
       "  <tbody>\n",
       "    <tr>\n",
       "      <th>0</th>\n",
       "      <td>12346.0</td>\n",
       "      <td>325</td>\n",
       "      <td>1</td>\n",
       "      <td>77183.60</td>\n",
       "    </tr>\n",
       "    <tr>\n",
       "      <th>1</th>\n",
       "      <td>12347.0</td>\n",
       "      <td>1</td>\n",
       "      <td>182</td>\n",
       "      <td>4310.00</td>\n",
       "    </tr>\n",
       "    <tr>\n",
       "      <th>2</th>\n",
       "      <td>12348.0</td>\n",
       "      <td>74</td>\n",
       "      <td>31</td>\n",
       "      <td>1797.24</td>\n",
       "    </tr>\n",
       "    <tr>\n",
       "      <th>3</th>\n",
       "      <td>12349.0</td>\n",
       "      <td>18</td>\n",
       "      <td>73</td>\n",
       "      <td>1757.55</td>\n",
       "    </tr>\n",
       "    <tr>\n",
       "      <th>4</th>\n",
       "      <td>12350.0</td>\n",
       "      <td>309</td>\n",
       "      <td>17</td>\n",
       "      <td>334.40</td>\n",
       "    </tr>\n",
       "    <tr>\n",
       "      <th>...</th>\n",
       "      <td>...</td>\n",
       "      <td>...</td>\n",
       "      <td>...</td>\n",
       "      <td>...</td>\n",
       "    </tr>\n",
       "    <tr>\n",
       "      <th>4333</th>\n",
       "      <td>18280.0</td>\n",
       "      <td>277</td>\n",
       "      <td>10</td>\n",
       "      <td>180.60</td>\n",
       "    </tr>\n",
       "    <tr>\n",
       "      <th>4334</th>\n",
       "      <td>18281.0</td>\n",
       "      <td>180</td>\n",
       "      <td>7</td>\n",
       "      <td>80.82</td>\n",
       "    </tr>\n",
       "    <tr>\n",
       "      <th>4335</th>\n",
       "      <td>18282.0</td>\n",
       "      <td>7</td>\n",
       "      <td>12</td>\n",
       "      <td>178.05</td>\n",
       "    </tr>\n",
       "    <tr>\n",
       "      <th>4336</th>\n",
       "      <td>18283.0</td>\n",
       "      <td>3</td>\n",
       "      <td>721</td>\n",
       "      <td>2094.88</td>\n",
       "    </tr>\n",
       "    <tr>\n",
       "      <th>4337</th>\n",
       "      <td>18287.0</td>\n",
       "      <td>42</td>\n",
       "      <td>70</td>\n",
       "      <td>1837.28</td>\n",
       "    </tr>\n",
       "  </tbody>\n",
       "</table>\n",
       "<p>4338 rows × 4 columns</p>\n",
       "</div>"
      ],
      "text/plain": [
       "      CustomerID  Recency  Frequency  Monetary\n",
       "0        12346.0      325          1  77183.60\n",
       "1        12347.0        1        182   4310.00\n",
       "2        12348.0       74         31   1797.24\n",
       "3        12349.0       18         73   1757.55\n",
       "4        12350.0      309         17    334.40\n",
       "...          ...      ...        ...       ...\n",
       "4333     18280.0      277         10    180.60\n",
       "4334     18281.0      180          7     80.82\n",
       "4335     18282.0        7         12    178.05\n",
       "4336     18283.0        3        721   2094.88\n",
       "4337     18287.0       42         70   1837.28\n",
       "\n",
       "[4338 rows x 4 columns]"
      ]
     },
     "execution_count": 21,
     "metadata": {},
     "output_type": "execute_result"
    }
   ],
   "source": [
    "RFM"
   ]
  },
  {
   "cell_type": "markdown",
   "id": "403bff2c-e650-4a63-b704-9ec2e7e00b37",
   "metadata": {},
   "source": [
    "### Score R and F and M based on their quantile"
   ]
  },
  {
   "cell_type": "code",
   "execution_count": 22,
   "id": "bccff3ae-d00a-44e4-91a7-75339d46e1e4",
   "metadata": {},
   "outputs": [
    {
     "data": {
      "text/html": [
       "<div>\n",
       "<style scoped>\n",
       "    .dataframe tbody tr th:only-of-type {\n",
       "        vertical-align: middle;\n",
       "    }\n",
       "\n",
       "    .dataframe tbody tr th {\n",
       "        vertical-align: top;\n",
       "    }\n",
       "\n",
       "    .dataframe thead th {\n",
       "        text-align: right;\n",
       "    }\n",
       "</style>\n",
       "<table border=\"1\" class=\"dataframe\">\n",
       "  <thead>\n",
       "    <tr style=\"text-align: right;\">\n",
       "      <th></th>\n",
       "      <th>CustomerID</th>\n",
       "      <th>Recency</th>\n",
       "      <th>Frequency</th>\n",
       "      <th>Monetary</th>\n",
       "      <th>RecencyScore</th>\n",
       "      <th>FrequencyScore</th>\n",
       "      <th>MonetaryScore</th>\n",
       "    </tr>\n",
       "  </thead>\n",
       "  <tbody>\n",
       "    <tr>\n",
       "      <th>0</th>\n",
       "      <td>12346.0</td>\n",
       "      <td>325</td>\n",
       "      <td>1</td>\n",
       "      <td>77183.60</td>\n",
       "      <td>1</td>\n",
       "      <td>1</td>\n",
       "      <td>5</td>\n",
       "    </tr>\n",
       "    <tr>\n",
       "      <th>1</th>\n",
       "      <td>12347.0</td>\n",
       "      <td>1</td>\n",
       "      <td>182</td>\n",
       "      <td>4310.00</td>\n",
       "      <td>5</td>\n",
       "      <td>5</td>\n",
       "      <td>5</td>\n",
       "    </tr>\n",
       "    <tr>\n",
       "      <th>2</th>\n",
       "      <td>12348.0</td>\n",
       "      <td>74</td>\n",
       "      <td>31</td>\n",
       "      <td>1797.24</td>\n",
       "      <td>2</td>\n",
       "      <td>3</td>\n",
       "      <td>4</td>\n",
       "    </tr>\n",
       "    <tr>\n",
       "      <th>3</th>\n",
       "      <td>12349.0</td>\n",
       "      <td>18</td>\n",
       "      <td>73</td>\n",
       "      <td>1757.55</td>\n",
       "      <td>4</td>\n",
       "      <td>4</td>\n",
       "      <td>4</td>\n",
       "    </tr>\n",
       "    <tr>\n",
       "      <th>4</th>\n",
       "      <td>12350.0</td>\n",
       "      <td>309</td>\n",
       "      <td>17</td>\n",
       "      <td>334.40</td>\n",
       "      <td>1</td>\n",
       "      <td>2</td>\n",
       "      <td>2</td>\n",
       "    </tr>\n",
       "  </tbody>\n",
       "</table>\n",
       "</div>"
      ],
      "text/plain": [
       "   CustomerID  Recency  Frequency  Monetary RecencyScore FrequencyScore  \\\n",
       "0     12346.0      325          1  77183.60            1              1   \n",
       "1     12347.0        1        182   4310.00            5              5   \n",
       "2     12348.0       74         31   1797.24            2              3   \n",
       "3     12349.0       18         73   1757.55            4              4   \n",
       "4     12350.0      309         17    334.40            1              2   \n",
       "\n",
       "  MonetaryScore  \n",
       "0             5  \n",
       "1             5  \n",
       "2             4  \n",
       "3             4  \n",
       "4             2  "
      ]
     },
     "execution_count": 22,
     "metadata": {},
     "output_type": "execute_result"
    }
   ],
   "source": [
    "RFM[\"RecencyScore\"] = pd.qcut(RFM[\"Recency\"], 5, labels = [5, 4 , 3, 2, 1])\n",
    "RFM[\"RecencyScore\"] = pd.qcut(RFM[\"Recency\"], 5, labels = [5, 4 , 3, 2, 1])\n",
    "\n",
    "RFM[\"FrequencyScore\"]= pd.qcut(RFM[\"Frequency\"].rank(method=\"first\"),5, labels=[1,2,3,4,5])\n",
    "RFM[\"FrequencyScore\"]= pd.qcut(RFM[\"Frequency\"].rank(method=\"first\"),5, labels=[1,2,3,4,5])\n",
    "\n",
    "RFM[\"MonetaryScore\"] = pd.qcut(RFM['Monetary'], 5, labels = [1, 2, 3, 4, 5])\n",
    "RFM[\"MonetaryScore\"] = pd.qcut(RFM['Monetary'], 5, labels = [1, 2, 3, 4, 5])\n",
    "\n",
    "RFM.head()"
   ]
  },
  {
   "cell_type": "code",
   "execution_count": 23,
   "id": "e292b5ef-c263-4372-ab42-1c93c2156e3c",
   "metadata": {},
   "outputs": [
    {
     "data": {
      "text/html": [
       "<div>\n",
       "<style scoped>\n",
       "    .dataframe tbody tr th:only-of-type {\n",
       "        vertical-align: middle;\n",
       "    }\n",
       "\n",
       "    .dataframe tbody tr th {\n",
       "        vertical-align: top;\n",
       "    }\n",
       "\n",
       "    .dataframe thead th {\n",
       "        text-align: right;\n",
       "    }\n",
       "</style>\n",
       "<table border=\"1\" class=\"dataframe\">\n",
       "  <thead>\n",
       "    <tr style=\"text-align: right;\">\n",
       "      <th></th>\n",
       "      <th>CustomerID</th>\n",
       "      <th>Recency</th>\n",
       "      <th>Frequency</th>\n",
       "      <th>Monetary</th>\n",
       "      <th>RecencyScore</th>\n",
       "      <th>FrequencyScore</th>\n",
       "      <th>MonetaryScore</th>\n",
       "      <th>RFM_SCORE</th>\n",
       "    </tr>\n",
       "  </thead>\n",
       "  <tbody>\n",
       "    <tr>\n",
       "      <th>0</th>\n",
       "      <td>12346.0</td>\n",
       "      <td>325</td>\n",
       "      <td>1</td>\n",
       "      <td>77183.60</td>\n",
       "      <td>1</td>\n",
       "      <td>1</td>\n",
       "      <td>5</td>\n",
       "      <td>115</td>\n",
       "    </tr>\n",
       "    <tr>\n",
       "      <th>1</th>\n",
       "      <td>12347.0</td>\n",
       "      <td>1</td>\n",
       "      <td>182</td>\n",
       "      <td>4310.00</td>\n",
       "      <td>5</td>\n",
       "      <td>5</td>\n",
       "      <td>5</td>\n",
       "      <td>555</td>\n",
       "    </tr>\n",
       "    <tr>\n",
       "      <th>2</th>\n",
       "      <td>12348.0</td>\n",
       "      <td>74</td>\n",
       "      <td>31</td>\n",
       "      <td>1797.24</td>\n",
       "      <td>2</td>\n",
       "      <td>3</td>\n",
       "      <td>4</td>\n",
       "      <td>234</td>\n",
       "    </tr>\n",
       "    <tr>\n",
       "      <th>3</th>\n",
       "      <td>12349.0</td>\n",
       "      <td>18</td>\n",
       "      <td>73</td>\n",
       "      <td>1757.55</td>\n",
       "      <td>4</td>\n",
       "      <td>4</td>\n",
       "      <td>4</td>\n",
       "      <td>444</td>\n",
       "    </tr>\n",
       "    <tr>\n",
       "      <th>4</th>\n",
       "      <td>12350.0</td>\n",
       "      <td>309</td>\n",
       "      <td>17</td>\n",
       "      <td>334.40</td>\n",
       "      <td>1</td>\n",
       "      <td>2</td>\n",
       "      <td>2</td>\n",
       "      <td>122</td>\n",
       "    </tr>\n",
       "  </tbody>\n",
       "</table>\n",
       "</div>"
      ],
      "text/plain": [
       "   CustomerID  Recency  Frequency  Monetary RecencyScore FrequencyScore  \\\n",
       "0     12346.0      325          1  77183.60            1              1   \n",
       "1     12347.0        1        182   4310.00            5              5   \n",
       "2     12348.0       74         31   1797.24            2              3   \n",
       "3     12349.0       18         73   1757.55            4              4   \n",
       "4     12350.0      309         17    334.40            1              2   \n",
       "\n",
       "  MonetaryScore RFM_SCORE  \n",
       "0             5       115  \n",
       "1             5       555  \n",
       "2             4       234  \n",
       "3             4       444  \n",
       "4             2       122  "
      ]
     },
     "execution_count": 23,
     "metadata": {},
     "output_type": "execute_result"
    }
   ],
   "source": [
    "RFM[\"RFM_SCORE\"] = (RFM['RecencyScore'].astype(str) + \n",
    "                     RFM['FrequencyScore'].astype(str) + \n",
    "                     RFM['MonetaryScore'].astype(str))\n",
    "\n",
    "RFM[\"RFM_SCORE\"] = (RFM['RecencyScore'].astype(str) + \n",
    "                     RFM['FrequencyScore'].astype(str) + \n",
    "                     RFM['MonetaryScore'].astype(str))\n",
    "\n",
    "RFM.head()"
   ]
  },
  {
   "cell_type": "markdown",
   "id": "57141663-ddfe-46c7-a0a6-9b950cac5ad3",
   "metadata": {},
   "source": [
    "### Segment customers based on their RFM score max = 555 and min = 111"
   ]
  },
  {
   "cell_type": "code",
   "execution_count": 24,
   "id": "22c1f423-22d6-4eef-9414-24ca5187b49f",
   "metadata": {},
   "outputs": [
    {
     "data": {
      "text/html": [
       "<div>\n",
       "<style scoped>\n",
       "    .dataframe tbody tr th:only-of-type {\n",
       "        vertical-align: middle;\n",
       "    }\n",
       "\n",
       "    .dataframe tbody tr th {\n",
       "        vertical-align: top;\n",
       "    }\n",
       "\n",
       "    .dataframe thead th {\n",
       "        text-align: right;\n",
       "    }\n",
       "</style>\n",
       "<table border=\"1\" class=\"dataframe\">\n",
       "  <thead>\n",
       "    <tr style=\"text-align: right;\">\n",
       "      <th></th>\n",
       "      <th>CustomerID</th>\n",
       "      <th>Recency</th>\n",
       "      <th>Frequency</th>\n",
       "      <th>Monetary</th>\n",
       "      <th>RecencyScore</th>\n",
       "      <th>FrequencyScore</th>\n",
       "      <th>MonetaryScore</th>\n",
       "      <th>RFM_SCORE</th>\n",
       "      <th>Segment</th>\n",
       "    </tr>\n",
       "  </thead>\n",
       "  <tbody>\n",
       "    <tr>\n",
       "      <th>0</th>\n",
       "      <td>12346.0</td>\n",
       "      <td>325</td>\n",
       "      <td>1</td>\n",
       "      <td>77183.60</td>\n",
       "      <td>1</td>\n",
       "      <td>1</td>\n",
       "      <td>5</td>\n",
       "      <td>115</td>\n",
       "      <td>Hibernating</td>\n",
       "    </tr>\n",
       "    <tr>\n",
       "      <th>1</th>\n",
       "      <td>12347.0</td>\n",
       "      <td>1</td>\n",
       "      <td>182</td>\n",
       "      <td>4310.00</td>\n",
       "      <td>5</td>\n",
       "      <td>5</td>\n",
       "      <td>5</td>\n",
       "      <td>555</td>\n",
       "      <td>Champions</td>\n",
       "    </tr>\n",
       "    <tr>\n",
       "      <th>2</th>\n",
       "      <td>12348.0</td>\n",
       "      <td>74</td>\n",
       "      <td>31</td>\n",
       "      <td>1797.24</td>\n",
       "      <td>2</td>\n",
       "      <td>3</td>\n",
       "      <td>4</td>\n",
       "      <td>234</td>\n",
       "      <td>At Risk</td>\n",
       "    </tr>\n",
       "    <tr>\n",
       "      <th>3</th>\n",
       "      <td>12349.0</td>\n",
       "      <td>18</td>\n",
       "      <td>73</td>\n",
       "      <td>1757.55</td>\n",
       "      <td>4</td>\n",
       "      <td>4</td>\n",
       "      <td>4</td>\n",
       "      <td>444</td>\n",
       "      <td>Loyal Customers</td>\n",
       "    </tr>\n",
       "    <tr>\n",
       "      <th>4</th>\n",
       "      <td>12350.0</td>\n",
       "      <td>309</td>\n",
       "      <td>17</td>\n",
       "      <td>334.40</td>\n",
       "      <td>1</td>\n",
       "      <td>2</td>\n",
       "      <td>2</td>\n",
       "      <td>122</td>\n",
       "      <td>Hibernating</td>\n",
       "    </tr>\n",
       "  </tbody>\n",
       "</table>\n",
       "</div>"
      ],
      "text/plain": [
       "   CustomerID  Recency  Frequency  Monetary RecencyScore FrequencyScore  \\\n",
       "0     12346.0      325          1  77183.60            1              1   \n",
       "1     12347.0        1        182   4310.00            5              5   \n",
       "2     12348.0       74         31   1797.24            2              3   \n",
       "3     12349.0       18         73   1757.55            4              4   \n",
       "4     12350.0      309         17    334.40            1              2   \n",
       "\n",
       "  MonetaryScore RFM_SCORE          Segment  \n",
       "0             5       115      Hibernating  \n",
       "1             5       555        Champions  \n",
       "2             4       234          At Risk  \n",
       "3             4       444  Loyal Customers  \n",
       "4             2       122      Hibernating  "
      ]
     },
     "execution_count": 24,
     "metadata": {},
     "output_type": "execute_result"
    }
   ],
   "source": [
    "seg_map = {\n",
    "    r'[1-2][1-2]': 'Hibernating',\n",
    "    r'[1-2][3-4]': 'At Risk',\n",
    "    r'[1-2]5': 'Can\\'t Loose',\n",
    "    r'3[1-2]': 'About to Sleep',\n",
    "    r'33': 'Need Attention',\n",
    "    r'[3-4][4-5]': 'Loyal Customers',\n",
    "    r'41': 'Promising',\n",
    "    r'51': 'New Customers',\n",
    "    r'[4-5][2-3]': 'Potential Loyalists',\n",
    "    r'5[4-5]': 'Champions'\n",
    "}\n",
    "\n",
    "RFM['Segment'] = RFM['RecencyScore'].astype(str) + RFM['FrequencyScore'].astype(str)\n",
    "RFM['Segment'] = RFM['Segment'].replace(seg_map, regex=True)\n",
    "\n",
    "RFM['Segment'] = RFM['RecencyScore'].astype(str) + RFM['FrequencyScore'].astype(str)\n",
    "RFM['Segment'] = RFM['Segment'].replace(seg_map, regex=True)\n",
    "\n",
    "RFM.head()"
   ]
  },
  {
   "cell_type": "markdown",
   "id": "0a77e2bd-fdd0-4a20-9713-19052c4bd0cb",
   "metadata": {},
   "source": [
    "## Analyzing Segments\n",
    "- How many customers belong to each Segment?\n",
    "- AVG customers total amount spent\n",
    "- What's Yearly total amount and quantity sold?\n",
    "- What country are the customers from?\n",
    "- What country are the champion customers from?\n",
    "- Most Frequently bought product by customers of each segment"
   ]
  },
  {
   "cell_type": "markdown",
   "id": "03f8ff49-e244-4cf5-94d7-7ed226f7af79",
   "metadata": {},
   "source": [
    "### How many customers belong to each Segment?"
   ]
  },
  {
   "cell_type": "code",
   "execution_count": 25,
   "id": "71a6c423-b053-4912-9ad8-de9da7bf30e5",
   "metadata": {},
   "outputs": [
    {
     "data": {
      "image/png": "[encoded data removed]",
      "text/plain": [
       "<Figure size 432x288 with 1 Axes>"
      ]
     },
     "metadata": {},
     "output_type": "display_data"
    }
   ],
   "source": [
    "plt.pie(RFM['Segment'].value_counts(),\n",
    "        labels=RFM['Segment'].value_counts().index,\n",
    "        autopct='%.0f%%')\n",
    "plt.show()"
   ]
  },
  {
   "cell_type": "code",
   "execution_count": 26,
   "id": "5daae27c-a31e-40cd-bd36-c1f3f650114f",
   "metadata": {},
   "outputs": [],
   "source": [
    "RFM_merge  = RFM[['CustomerID','RFM_SCORE','Segment']]"
   ]
  },
  {
   "cell_type": "code",
   "execution_count": 27,
   "id": "7e5da60b-cde6-46e3-9a65-a4b1688a9962",
   "metadata": {},
   "outputs": [],
   "source": [
    "merged_df = pd.merge(df, RFM_merge, on='CustomerID')"
   ]
  },
  {
   "cell_type": "code",
   "execution_count": 28,
   "id": "75aec493-4818-4e68-87b3-c549a649c5bf",
   "metadata": {},
   "outputs": [],
   "source": [
    "total_buying_df = merged_df.groupby('CustomerID')['TotalAmount'].sum().reset_index()\n",
    "\n",
    "total_buying_df = total_buying_df.rename(columns={'TotalAmount': 'TotalAmountSpent'})\n",
    "\n",
    "buying_df = pd.merge(merged_df, total_buying_df, on='CustomerID')\n",
    "\n"
   ]
  },
  {
   "cell_type": "code",
   "execution_count": 29,
   "id": "a53948e2-d416-49b1-bc8f-25a38419c99c",
   "metadata": {},
   "outputs": [],
   "source": [
    "total_quan_df = merged_df.groupby('CustomerID')['Quantity'].sum().reset_index()\n",
    "\n",
    "total_quan_df = total_quan_df.rename(columns={'Quantity': 'TotalQuantity'})\n",
    "\n",
    "buying_df = pd.merge(buying_df, total_quan_df, on='CustomerID')\n",
    "\n"
   ]
  },
  {
   "cell_type": "code",
   "execution_count": 30,
   "id": "93c195ae-8632-4ff0-8d39-410351d5cf67",
   "metadata": {},
   "outputs": [],
   "source": [
    "df_user_de = buying_df[['CustomerID','Country','Segment','TotalAmountSpent','TotalQuantity']]\n",
    "df_user_de  = df_user_de.drop_duplicates(subset='CustomerID')"
   ]
  },
  {
   "cell_type": "code",
   "execution_count": 31,
   "id": "da7ba34b-435f-4c79-a5f4-f95869ebdd0c",
   "metadata": {},
   "outputs": [
    {
     "data": {
      "text/html": [
       "<div>\n",
       "<style scoped>\n",
       "    .dataframe tbody tr th:only-of-type {\n",
       "        vertical-align: middle;\n",
       "    }\n",
       "\n",
       "    .dataframe tbody tr th {\n",
       "        vertical-align: top;\n",
       "    }\n",
       "\n",
       "    .dataframe thead th {\n",
       "        text-align: right;\n",
       "    }\n",
       "</style>\n",
       "<table border=\"1\" class=\"dataframe\">\n",
       "  <thead>\n",
       "    <tr style=\"text-align: right;\">\n",
       "      <th></th>\n",
       "      <th>CustomerID</th>\n",
       "      <th>Country</th>\n",
       "      <th>Segment</th>\n",
       "      <th>TotalAmountSpent</th>\n",
       "      <th>TotalQuantity</th>\n",
       "    </tr>\n",
       "  </thead>\n",
       "  <tbody>\n",
       "    <tr>\n",
       "      <th>0</th>\n",
       "      <td>17850.0</td>\n",
       "      <td>United Kingdom</td>\n",
       "      <td>Can't Loose</td>\n",
       "      <td>5391.21</td>\n",
       "      <td>1733</td>\n",
       "    </tr>\n",
       "    <tr>\n",
       "      <th>297</th>\n",
       "      <td>13047.0</td>\n",
       "      <td>United Kingdom</td>\n",
       "      <td>Loyal Customers</td>\n",
       "      <td>3237.54</td>\n",
       "      <td>1391</td>\n",
       "    </tr>\n",
       "    <tr>\n",
       "      <th>469</th>\n",
       "      <td>12583.0</td>\n",
       "      <td>France</td>\n",
       "      <td>Champions</td>\n",
       "      <td>7281.38</td>\n",
       "      <td>5060</td>\n",
       "    </tr>\n",
       "    <tr>\n",
       "      <th>716</th>\n",
       "      <td>13748.0</td>\n",
       "      <td>United Kingdom</td>\n",
       "      <td>Hibernating</td>\n",
       "      <td>948.25</td>\n",
       "      <td>439</td>\n",
       "    </tr>\n",
       "    <tr>\n",
       "      <th>744</th>\n",
       "      <td>15100.0</td>\n",
       "      <td>United Kingdom</td>\n",
       "      <td>Hibernating</td>\n",
       "      <td>876.00</td>\n",
       "      <td>80</td>\n",
       "    </tr>\n",
       "  </tbody>\n",
       "</table>\n",
       "</div>"
      ],
      "text/plain": [
       "     CustomerID         Country          Segment  TotalAmountSpent  \\\n",
       "0       17850.0  United Kingdom      Can't Loose           5391.21   \n",
       "297     13047.0  United Kingdom  Loyal Customers           3237.54   \n",
       "469     12583.0          France        Champions           7281.38   \n",
       "716     13748.0  United Kingdom      Hibernating            948.25   \n",
       "744     15100.0  United Kingdom      Hibernating            876.00   \n",
       "\n",
       "     TotalQuantity  \n",
       "0             1733  \n",
       "297           1391  \n",
       "469           5060  \n",
       "716            439  \n",
       "744             80  "
      ]
     },
     "execution_count": 31,
     "metadata": {},
     "output_type": "execute_result"
    }
   ],
   "source": [
    "df_user_de.head()"
   ]
  },
  {
   "cell_type": "code",
   "execution_count": 32,
   "id": "50c4d3f1-d606-46e7-819a-a7ffd0b595be",
   "metadata": {},
   "outputs": [
    {
     "name": "stdout",
     "output_type": "stream",
     "text": [
      "Hibernating            1049\n",
      "Loyal Customers         826\n",
      "Champions               606\n",
      "At Risk                 580\n",
      "Potential Loyalists     510\n",
      "About to Sleep          321\n",
      "Need Attention          205\n",
      "Promising               107\n",
      "Can't Loose              79\n",
      "New Customers            55\n",
      "Name: Segment, dtype: int64\n"
     ]
    },
    {
     "data": {
      "text/plain": [
       "<AxesSubplot:xlabel='Segment', ylabel='count'>"
      ]
     },
     "execution_count": 32,
     "metadata": {},
     "output_type": "execute_result"
    },
    {
     "data": {
      "image/png": "[encoded data removed]",
      "text/plain": [
       "<Figure size 1008x360 with 1 Axes>"
      ]
     },
     "metadata": {
      "needs_background": "light"
     },
     "output_type": "display_data"
    }
   ],
   "source": [
    "print(df_user_de['Segment'].value_counts())\n",
    "plt.rcParams['figure.figsize'] = (14, 5)\n",
    "sns.countplot(x='Segment', data=df_user_de,palette='Greens_d',order= df_user_de['Segment'].value_counts().index)\n"
   ]
  },
  {
   "cell_type": "markdown",
   "id": "9c5bdc78-5497-4a6f-98cb-f61ee1c78a0c",
   "metadata": {},
   "source": [
    "### AVG customers total amount spent"
   ]
  },
  {
   "cell_type": "code",
   "execution_count": 33,
   "id": "00724524-70fc-471e-bc2d-e5765f87589f",
   "metadata": {},
   "outputs": [
    {
     "name": "stdout",
     "output_type": "stream",
     "text": [
      "count      4338.0\n",
      "mean       2054.0\n",
      "std        8989.0\n",
      "min           4.0\n",
      "25%         307.0\n",
      "50%         674.0\n",
      "75%        1662.0\n",
      "max      280206.0\n",
      "Name: TotalAmountSpent, dtype: float64\n"
     ]
    },
    {
     "data": {
      "text/plain": [
       "<AxesSubplot:xlabel='TotalAmountSpent', ylabel='Density'>"
      ]
     },
     "execution_count": 33,
     "metadata": {},
     "output_type": "execute_result"
    },
    {
     "data": {
      "image/png": "[encoded data removed]",
      "text/plain": [
       "<Figure size 1008x432 with 2 Axes>"
      ]
     },
     "metadata": {
      "needs_background": "light"
     },
     "output_type": "display_data"
    }
   ],
   "source": [
    "print(round(df_user_de['TotalAmountSpent'].describe()))\n",
    "\n",
    "fig, (axis1,axis2) = plt.subplots(1,2,figsize=(14,6))\n",
    "sns.boxplot(y='TotalAmountSpent',data=df_user_de,ax=axis1)\n",
    "sns.distplot(df_user_de['TotalAmountSpent'],ax=axis2)\n"
   ]
  },
  {
   "cell_type": "markdown",
   "id": "3c2bb838-7f54-4924-be82-56b14f60adaf",
   "metadata": {},
   "source": [
    "### What's Yearly total amount and quantity sold?"
   ]
  },
  {
   "cell_type": "code",
   "execution_count": 34,
   "id": "14fe79f9-3387-4756-8e24-7fa7ac8d0406",
   "metadata": {},
   "outputs": [
    {
     "data": {
      "text/html": [
       "<div>\n",
       "<style scoped>\n",
       "    .dataframe tbody tr th:only-of-type {\n",
       "        vertical-align: middle;\n",
       "    }\n",
       "\n",
       "    .dataframe tbody tr th {\n",
       "        vertical-align: top;\n",
       "    }\n",
       "\n",
       "    .dataframe thead th {\n",
       "        text-align: right;\n",
       "    }\n",
       "</style>\n",
       "<table border=\"1\" class=\"dataframe\">\n",
       "  <thead>\n",
       "    <tr style=\"text-align: right;\">\n",
       "      <th></th>\n",
       "      <th>Quantity</th>\n",
       "      <th>TotalAmount</th>\n",
       "    </tr>\n",
       "    <tr>\n",
       "      <th>InvoiceDate</th>\n",
       "      <th></th>\n",
       "      <th></th>\n",
       "    </tr>\n",
       "  </thead>\n",
       "  <tbody>\n",
       "    <tr>\n",
       "      <th>2010-12-31</th>\n",
       "      <td>312265</td>\n",
       "      <td>5.727139e+05</td>\n",
       "    </tr>\n",
       "    <tr>\n",
       "      <th>2011-12-31</th>\n",
       "      <td>4855547</td>\n",
       "      <td>8.338694e+06</td>\n",
       "    </tr>\n",
       "  </tbody>\n",
       "</table>\n",
       "</div>"
      ],
      "text/plain": [
       "             Quantity   TotalAmount\n",
       "InvoiceDate                        \n",
       "2010-12-31     312265  5.727139e+05\n",
       "2011-12-31    4855547  8.338694e+06"
      ]
     },
     "execution_count": 34,
     "metadata": {},
     "output_type": "execute_result"
    }
   ],
   "source": [
    "merged_df[['InvoiceDate','Quantity','TotalAmount']].groupby(pd.Grouper(key=\"InvoiceDate\", freq=\"Y\")).sum()"
   ]
  },
  {
   "cell_type": "markdown",
   "id": "0dd47de6-133b-4a1b-b2d7-04eb4f0b5535",
   "metadata": {},
   "source": [
    "### What country are the customers from?"
   ]
  },
  {
   "cell_type": "code",
   "execution_count": 35,
   "id": "b87e90ba-f75e-4c64-a013-5abb72377053",
   "metadata": {},
   "outputs": [
    {
     "data": {
      "text/plain": [
       "United Kingdom          3920\n",
       "Germany                   94\n",
       "France                    87\n",
       "Spain                     28\n",
       "Belgium                   24\n",
       "Switzerland               20\n",
       "Portugal                  19\n",
       "Italy                     14\n",
       "Finland                   12\n",
       "Norway                    10\n",
       "Austria                    9\n",
       "Netherlands                9\n",
       "Australia                  9\n",
       "Channel Islands            9\n",
       "Denmark                    8\n",
       "Sweden                     8\n",
       "Japan                      8\n",
       "Cyprus                     7\n",
       "Poland                     6\n",
       "Greece                     4\n",
       "USA                        4\n",
       "Canada                     4\n",
       "Unspecified                4\n",
       "Israel                     3\n",
       "EIRE                       3\n",
       "United Arab Emirates       2\n",
       "Malta                      2\n",
       "Bahrain                    2\n",
       "Singapore                  1\n",
       "Czech Republic             1\n",
       "Brazil                     1\n",
       "Lithuania                  1\n",
       "Iceland                    1\n",
       "European Community         1\n",
       "Saudi Arabia               1\n",
       "RSA                        1\n",
       "Lebanon                    1\n",
       "Name: Country, dtype: int64"
      ]
     },
     "execution_count": 35,
     "metadata": {},
     "output_type": "execute_result"
    }
   ],
   "source": [
    "df_user_de['Country'].value_counts()"
   ]
  },
  {
   "cell_type": "code",
   "execution_count": 36,
   "id": "a4426739-dc45-48e1-b01d-6ea08de43e18",
   "metadata": {},
   "outputs": [
    {
     "data": {
      "text/html": [
       "<iframe\n",
       "    scrolling=\"no\"\n",
       "    width=\"100%\"\n",
       "    height=\"545px\"\n",
       "    src=\"iframe_figures/figure_36.html\"\n",
       "    frameborder=\"0\"\n",
       "    allowfullscreen\n",
       "></iframe>\n"
      ]
     },
     "metadata": {},
     "output_type": "display_data"
    }
   ],
   "source": [
    "# Count the occurrences of each country name\n",
    "counts = df_user_de['Country'].value_counts().rename_axis('Country').reset_index(name='Counts')\n",
    "\n",
    "# Load the world map data\n",
    "world = go.Figure(go.Choropleth(\n",
    "    locationmode = 'country names',\n",
    "    locations = counts['Country'],\n",
    "    z = counts['Counts'],\n",
    "    text = counts['Country'],\n",
    "    autocolorscale=False,\n",
    "    reversescale=False,\n",
    "    marker_line_color='darkgray',\n",
    "    marker_line_width=0.5,\n",
    "    colorbar_title = 'Count'\n",
    "))\n",
    "\n",
    "# Update the layout\n",
    "world.update_layout(\n",
    "    title_text='Marketing Places',\n",
    "    geo=dict(\n",
    "        showframe=False,\n",
    "        showcoastlines=True,\n",
    "        projection_type='natural earth'\n",
    "    )\n",
    ")\n",
    "\n",
    "# Show the plot\n",
    "pyo.iplot(world)"
   ]
  },
  {
   "cell_type": "markdown",
   "id": "0f36ec55-2b26-4149-87b9-6fa68a695be0",
   "metadata": {},
   "source": [
    "### What country are the champion customers from?"
   ]
  },
  {
   "cell_type": "code",
   "execution_count": 41,
   "id": "48e48484-8e3a-431a-b7ba-231c787a6335",
   "metadata": {},
   "outputs": [],
   "source": [
    "champs =  df_user_de[df_user_de['Segment'] =='Champions']"
   ]
  },
  {
   "cell_type": "code",
   "execution_count": 45,
   "id": "a73e37c1-8f8b-4125-8c18-951fc50e9373",
   "metadata": {},
   "outputs": [
    {
     "name": "stdout",
     "output_type": "stream",
     "text": [
      "United Kingdom    556\n",
      "France             16\n",
      "Germany            13\n",
      "Belgium             4\n",
      "Portugal            4\n",
      "EIRE                2\n",
      "Finland             2\n",
      "Norway              2\n",
      "Spain               1\n",
      "Iceland             1\n",
      "Switzerland         1\n",
      "Netherlands         1\n",
      "Sweden              1\n",
      "Denmark             1\n",
      "Italy               1\n",
      "Name: Country, dtype: int64\n"
     ]
    },
    {
     "data": {
      "text/html": [
       "<iframe\n",
       "    scrolling=\"no\"\n",
       "    width=\"100%\"\n",
       "    height=\"545px\"\n",
       "    src=\"iframe_figures/figure_45.html\"\n",
       "    frameborder=\"0\"\n",
       "    allowfullscreen\n",
       "></iframe>\n"
      ]
     },
     "metadata": {},
     "output_type": "display_data"
    }
   ],
   "source": [
    "print(champs['Country'].value_counts())\n",
    "counts = champs['Country'].value_counts().rename_axis('Country').reset_index(name='Counts')\n",
    "\n",
    "world = go.Figure(go.Choropleth(\n",
    "    locationmode = 'country names',\n",
    "    locations = counts['Country'],\n",
    "    z = counts['Counts'],\n",
    "    text = counts['Country'],\n",
    "    autocolorscale=False,\n",
    "    reversescale=False,\n",
    "    marker_line_color='darkgray',\n",
    "    marker_line_width=0.5,\n",
    "    colorbar_title = 'Count'\n",
    "))\n",
    "\n",
    "world.update_layout(\n",
    "    title_text='Countries with champoin customers',\n",
    "    geo=dict(\n",
    "        showframe=False,\n",
    "        showcoastlines=True,\n",
    "        projection_type='natural earth'\n",
    "    )\n",
    ")\n",
    "\n",
    "# Show the plot\n",
    "pyo.iplot(world)"
   ]
  },
  {
   "cell_type": "markdown",
   "id": "280315f4-b3a7-44ed-ab9e-6c2d53ee8406",
   "metadata": {},
   "source": [
    "### Most Frequently bought product by customers of each segment "
   ]
  },
  {
   "cell_type": "code",
   "execution_count": 43,
   "id": "5aa7c463-18d6-424a-a04c-f3eefc3f12c5",
   "metadata": {},
   "outputs": [
    {
     "name": "stdout",
     "output_type": "stream",
     "text": [
      "      StockCode              Segment  Counts\n",
      "8151      22423       About to Sleep      32\n",
      "13599     23188        New Customers       6\n",
      "19079     84879       Need Attention      51\n",
      "19082     84879            Promising      10\n",
      "19986    85099B            Champions     816\n",
      "20067    85123A              At Risk     220\n",
      "20068    85123A          Can't Loose      88\n",
      "20070    85123A          Hibernating     120\n",
      "20071    85123A      Loyal Customers     638\n",
      "21414      POST  Potential Loyalists     109\n"
     ]
    }
   ],
   "source": [
    "counts = merged_df.groupby(['StockCode','Segment']).size().reset_index(name='Counts')\n",
    "\n",
    "idx = counts.groupby(['Segment'])['Counts'].transform(max) == counts['Counts']\n",
    "\n",
    "most_frequent = counts[idx]\n",
    "\n",
    "print(most_frequent)"
   ]
  },
  {
   "cell_type": "code",
   "execution_count": 44,
   "id": "eb274505-d8e0-458c-8569-8825e6a5ae97",
   "metadata": {},
   "outputs": [
    {
     "data": {
      "text/html": [
       "<div>\n",
       "<style scoped>\n",
       "    .dataframe tbody tr th:only-of-type {\n",
       "        vertical-align: middle;\n",
       "    }\n",
       "\n",
       "    .dataframe tbody tr th {\n",
       "        vertical-align: top;\n",
       "    }\n",
       "\n",
       "    .dataframe thead th {\n",
       "        text-align: right;\n",
       "    }\n",
       "</style>\n",
       "<table border=\"1\" class=\"dataframe\">\n",
       "  <thead>\n",
       "    <tr style=\"text-align: right;\">\n",
       "      <th></th>\n",
       "      <th>Recency</th>\n",
       "      <th>Frequency</th>\n",
       "      <th>Monetary</th>\n",
       "    </tr>\n",
       "    <tr>\n",
       "      <th>Segment</th>\n",
       "      <th></th>\n",
       "      <th></th>\n",
       "      <th></th>\n",
       "    </tr>\n",
       "  </thead>\n",
       "  <tbody>\n",
       "    <tr>\n",
       "      <th>Promising</th>\n",
       "      <td>22.046729</td>\n",
       "      <td>7.186916</td>\n",
       "      <td>432.677290</td>\n",
       "    </tr>\n",
       "    <tr>\n",
       "      <th>About to Sleep</th>\n",
       "      <td>52.838006</td>\n",
       "      <td>15.616822</td>\n",
       "      <td>475.296854</td>\n",
       "    </tr>\n",
       "    <tr>\n",
       "      <th>Hibernating</th>\n",
       "      <td>210.665396</td>\n",
       "      <td>13.360343</td>\n",
       "      <td>528.653624</td>\n",
       "    </tr>\n",
       "    <tr>\n",
       "      <th>Need Attention</th>\n",
       "      <td>51.853659</td>\n",
       "      <td>40.775610</td>\n",
       "      <td>836.163902</td>\n",
       "    </tr>\n",
       "    <tr>\n",
       "      <th>Potential Loyalists</th>\n",
       "      <td>15.511765</td>\n",
       "      <td>34.221569</td>\n",
       "      <td>892.487727</td>\n",
       "    </tr>\n",
       "    <tr>\n",
       "      <th>At Risk</th>\n",
       "      <td>165.693103</td>\n",
       "      <td>55.641379</td>\n",
       "      <td>990.364397</td>\n",
       "    </tr>\n",
       "    <tr>\n",
       "      <th>Can't Loose</th>\n",
       "      <td>146.101266</td>\n",
       "      <td>179.544304</td>\n",
       "      <td>2417.355962</td>\n",
       "    </tr>\n",
       "    <tr>\n",
       "      <th>Loyal Customers</th>\n",
       "      <td>33.046005</td>\n",
       "      <td>154.351090</td>\n",
       "      <td>2833.545133</td>\n",
       "    </tr>\n",
       "    <tr>\n",
       "      <th>New Customers</th>\n",
       "      <td>5.709091</td>\n",
       "      <td>7.345455</td>\n",
       "      <td>3742.133091</td>\n",
       "    </tr>\n",
       "    <tr>\n",
       "      <th>Champions</th>\n",
       "      <td>4.920792</td>\n",
       "      <td>285.031353</td>\n",
       "      <td>6963.189901</td>\n",
       "    </tr>\n",
       "  </tbody>\n",
       "</table>\n",
       "</div>"
      ],
      "text/plain": [
       "                        Recency   Frequency     Monetary\n",
       "Segment                                                 \n",
       "Promising             22.046729    7.186916   432.677290\n",
       "About to Sleep        52.838006   15.616822   475.296854\n",
       "Hibernating          210.665396   13.360343   528.653624\n",
       "Need Attention        51.853659   40.775610   836.163902\n",
       "Potential Loyalists   15.511765   34.221569   892.487727\n",
       "At Risk              165.693103   55.641379   990.364397\n",
       "Can't Loose          146.101266  179.544304  2417.355962\n",
       "Loyal Customers       33.046005  154.351090  2833.545133\n",
       "New Customers          5.709091    7.345455  3742.133091\n",
       "Champions              4.920792  285.031353  6963.189901"
      ]
     },
     "execution_count": 44,
     "metadata": {},
     "output_type": "execute_result"
    }
   ],
   "source": [
    "RFM[['Recency',\t'Frequency','Monetary','Segment']].groupby('Segment').mean().sort_values('Monetary')\n"
   ]
  }
 ],
 "metadata": {
  "kernelspec": {
   "display_name": "tf25",
   "language": "python",
   "name": "tf25"
  },
  "language_info": {
   "codemirror_mode": {
    "name": "ipython",
    "version": 3
   },
   "file_extension": ".py",
   "mimetype": "text/x-python",
   "name": "python",
   "nbconvert_exporter": "python",
   "pygments_lexer": "ipython3",
   "version": "3.8.10"
  }
 },
 "nbformat": 4,
 "nbformat_minor": 5
}
